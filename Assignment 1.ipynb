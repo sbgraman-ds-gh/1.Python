{
 "cells": [
  {
   "cell_type": "code",
   "execution_count": 1,
   "id": "7f9b9dff",
   "metadata": {},
   "outputs": [
    {
     "name": "stdout",
     "output_type": "stream",
     "text": [
      "Welcome to Assignment-1\n"
     ]
    }
   ],
   "source": [
    "print(\"Welcome to Assignment-1\")"
   ]
  },
  {
   "cell_type": "code",
   "execution_count": 2,
   "id": "d3a9949c",
   "metadata": {},
   "outputs": [],
   "source": [
    "Num1=10\n",
    "Num2=30"
   ]
  },
  {
   "cell_type": "code",
   "execution_count": 3,
   "id": "8d9231fb",
   "metadata": {},
   "outputs": [
    {
     "name": "stdout",
     "output_type": "stream",
     "text": [
      "Num1= 10\n",
      "Num2= 30\n",
      "Add= 40\n"
     ]
    }
   ],
   "source": [
    "Add=Num1 + Num2\n",
    "print(\"Num1=\",Num1)\n",
    "print(\"Num2=\",Num2)\n",
    "print(\"Add=\",Add)"
   ]
  },
  {
   "cell_type": "code",
   "execution_count": 4,
   "id": "910c77e8",
   "metadata": {},
   "outputs": [
    {
     "name": "stdout",
     "output_type": "stream",
     "text": [
      "Num1= 10\n",
      "Num2= 30\n",
      "Add= 40\n"
     ]
    }
   ],
   "source": [
    "print(\"Num1=\",Num1)\n",
    "print(\"Num2=\",Num2)\n",
    "print(\"Add=\",(Num1 + Num2))"
   ]
  },
  {
   "cell_type": "code",
   "execution_count": 5,
   "id": "5f1e4196",
   "metadata": {},
   "outputs": [
    {
     "name": "stdout",
     "output_type": "stream",
     "text": [
      "Enter the BMI Index:23\n",
      "NormalWeight\n"
     ]
    }
   ],
   "source": [
    "BMIIndexVar=int(input(\"Enter the BMI Index:\"))\n",
    "if (BMIIndexVar <= 18):\n",
    "    print(\"UnderWeight\")\n",
    "elif (BMIIndexVar <= 25):\n",
    "    print(\"NormalWeight\")\n",
    "elif (BMIIndexVar <= 30):\n",
    "    print(\"Overweight\")\n",
    "else:           \n",
    "    print(\"Very OverWeight\")    "
   ]
  },
  {
   "cell_type": "code",
   "execution_count": null,
   "id": "b65f317e",
   "metadata": {},
   "outputs": [],
   "source": []
  }
 ],
 "metadata": {
  "kernelspec": {
   "display_name": "Python 3 (ipykernel)",
   "language": "python",
   "name": "python3"
  },
  "language_info": {
   "codemirror_mode": {
    "name": "ipython",
    "version": 3
   },
   "file_extension": ".py",
   "mimetype": "text/x-python",
   "name": "python",
   "nbconvert_exporter": "python",
   "pygments_lexer": "ipython3",
   "version": "3.7.15"
  }
 },
 "nbformat": 4,
 "nbformat_minor": 5
}
