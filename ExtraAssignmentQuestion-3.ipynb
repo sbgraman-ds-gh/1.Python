{
 "cells": [
  {
   "cell_type": "code",
   "execution_count": 2,
   "id": "fe09d4ed",
   "metadata": {},
   "outputs": [
    {
     "name": "stdout",
     "output_type": "stream",
     "text": [
      "The Value is : 10\n",
      "CORRECT\n"
     ]
    }
   ],
   "source": [
    "i=10\n",
    "if i == 10:        \n",
    "    print(\"The Value is :\",i)\n",
    "    print(\"CORRECT\")"
   ]
  },
  {
   "cell_type": "code",
   "execution_count": 4,
   "id": "502ae312",
   "metadata": {},
   "outputs": [
    {
     "name": "stdout",
     "output_type": "stream",
     "text": [
      "Enter the Password:HOPE@123\n",
      "Your Password is Correct\n"
     ]
    }
   ],
   "source": [
    "PasswordValue=input(\"Enter the Password:\")\n",
    "if PasswordValue == \"HOPE@123\":\n",
    "    print(\"Your Password is Correct\")\n",
    "else:\n",
    "    print(\"Your Password is Wrong\")\n"
   ]
  },
  {
   "cell_type": "code",
   "execution_count": 5,
   "id": "7720dd3c",
   "metadata": {},
   "outputs": [
    {
     "name": "stdout",
     "output_type": "stream",
     "text": [
      "Enter the Age:30\n",
      "Adult\n"
     ]
    }
   ],
   "source": [
    "Age=int(input(\"Enter the Age:\"))\n",
    "if (Age <= 10):\n",
    "    print(\"Children\")\n",
    "elif (Age <= 40):\n",
    "    print(\"Adult\")\n",
    "elif (Age <= 55):\n",
    "    print(\"Citizen\")\n",
    "elif (Age >= 56):\n",
    "    print(\"Senior Citizen\")"
   ]
  },
  {
   "cell_type": "code",
   "execution_count": 3,
   "id": "e2fae58c",
   "metadata": {},
   "outputs": [
    {
     "name": "stdout",
     "output_type": "stream",
     "text": [
      "Enter a number:66\n",
      "The Number 66 is NOT divisible by 5\n"
     ]
    }
   ],
   "source": [
    "numb = int(input(\"Enter a number:\"))\n",
    "if (numb%5 == 0):    \n",
    "    print(\"The Number\",numb,\"is divisible by 5\")\n",
    "else:\n",
    "    print(\"The Number\",numb,\"is NOT divisible by 5\")"
   ]
  },
  {
   "cell_type": "code",
   "execution_count": 9,
   "id": "3ea9fdf8",
   "metadata": {},
   "outputs": [
    {
     "name": "stdout",
     "output_type": "stream",
     "text": [
      "Enter a number:-100\n",
      "Negative number\n"
     ]
    }
   ],
   "source": [
    "numvar = float(input(\"Enter a number:\"))\n",
    "if numvar > 0:\n",
    "   print(\"Positive number\")\n",
    "elif numvar == 0:\n",
    "   print(\"Zero\")\n",
    "else:\n",
    "   print(\"Negative number\")"
   ]
  }
 ],
 "metadata": {
  "kernelspec": {
   "display_name": "Python 3 (ipykernel)",
   "language": "python",
   "name": "python3"
  },
  "language_info": {
   "codemirror_mode": {
    "name": "ipython",
    "version": 3
   },
   "file_extension": ".py",
   "mimetype": "text/x-python",
   "name": "python",
   "nbconvert_exporter": "python",
   "pygments_lexer": "ipython3",
   "version": "3.7.15"
  }
 },
 "nbformat": 4,
 "nbformat_minor": 5
}
