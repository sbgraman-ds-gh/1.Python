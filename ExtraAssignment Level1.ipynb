{
 "cells": [
  {
   "cell_type": "code",
   "execution_count": 17,
   "id": "955dca44",
   "metadata": {},
   "outputs": [
    {
     "name": "stdout",
     "output_type": "stream",
     "text": [
      "Hope AI\n"
     ]
    }
   ],
   "source": [
    "print(\"Hope AI\")"
   ]
  },
  {
   "cell_type": "code",
   "execution_count": 3,
   "id": "3093c6b1",
   "metadata": {},
   "outputs": [
    {
     "name": "stdout",
     "output_type": "stream",
     "text": [
      "Enter Your Institute Name? :The Ashram Institute of Higher Learning\n"
     ]
    }
   ],
   "source": [
    "InstituteName=input(\"Enter Your Institute Name? :\")"
   ]
  },
  {
   "cell_type": "code",
   "execution_count": 1,
   "id": "976c143b",
   "metadata": {},
   "outputs": [
    {
     "name": "stdout",
     "output_type": "stream",
     "text": [
      "Enter your Name: Arvind\n",
      "Enter your age: 25\n",
      "Enter your School Name: The Ashram School\n",
      "Enter  your Degree: M. TECH\n"
     ]
    }
   ],
   "source": [
    "StudentName=input(\"Enter your Name: \")\n",
    "StudentAge=input(\"Enter your age: \")\n",
    "SchoolName=input(\"Enter your School Name: \")\n",
    "StudentDegree=input(\"Enter  your Degree: \")"
   ]
  },
  {
   "cell_type": "code",
   "execution_count": 4,
   "id": "7c625774",
   "metadata": {},
   "outputs": [
    {
     "name": "stdout",
     "output_type": "stream",
     "text": [
      "Add=  77\n"
     ]
    }
   ],
   "source": [
    "a=43\n",
    "b=34\n",
    "add=a+b\n",
    "print(\"Add= \",add)"
   ]
  },
  {
   "cell_type": "code",
   "execution_count": 5,
   "id": "f527fc34",
   "metadata": {},
   "outputs": [
    {
     "name": "stdout",
     "output_type": "stream",
     "text": [
      "Add=  77\n"
     ]
    }
   ],
   "source": [
    "#Another method of addition program\n",
    "a=43\n",
    "b=34\n",
    "print(\"Add= \",a+b)"
   ]
  },
  {
   "cell_type": "code",
   "execution_count": 6,
   "id": "7fcf6788",
   "metadata": {},
   "outputs": [
    {
     "name": "stdout",
     "output_type": "stream",
     "text": [
      "Add=  9\n"
     ]
    }
   ],
   "source": [
    "a=43\n",
    "b=34\n",
    "Sub=a-b\n",
    "print(\"Add= \",Sub)"
   ]
  },
  {
   "cell_type": "code",
   "execution_count": 7,
   "id": "caadab19",
   "metadata": {},
   "outputs": [
    {
     "name": "stdout",
     "output_type": "stream",
     "text": [
      "Mul=  6111\n"
     ]
    }
   ],
   "source": [
    "a=63\n",
    "b=97\n",
    "Mul=a*b\n",
    "print(\"Mul= \",Mul)"
   ]
  },
  {
   "cell_type": "code",
   "execution_count": 8,
   "id": "247727cd",
   "metadata": {},
   "outputs": [
    {
     "name": "stdout",
     "output_type": "stream",
     "text": [
      "Float Div=  2.4516129032258065\n"
     ]
    }
   ],
   "source": [
    "a=76\n",
    "b=31\n",
    "FloatDiv=a/b\n",
    "print(\"Float Div= \",FloatDiv)"
   ]
  },
  {
   "cell_type": "code",
   "execution_count": 9,
   "id": "1a0ff83d",
   "metadata": {},
   "outputs": [
    {
     "name": "stdout",
     "output_type": "stream",
     "text": [
      "Floor Div:  2\n"
     ]
    }
   ],
   "source": [
    "#Floor Division\n",
    "a=76\n",
    "b=31\n",
    "print(\"Floor Div: \",a//b)"
   ]
  },
  {
   "cell_type": "code",
   "execution_count": 10,
   "id": "58986c40",
   "metadata": {},
   "outputs": [
    {
     "name": "stdout",
     "output_type": "stream",
     "text": [
      "Modulo:  14\n"
     ]
    }
   ],
   "source": [
    "#Modulo \n",
    "a=76\n",
    "b=31\n",
    "print(\"Modulo: \",a%b)"
   ]
  },
  {
   "cell_type": "code",
   "execution_count": 11,
   "id": "5bd718e9",
   "metadata": {},
   "outputs": [
    {
     "name": "stdout",
     "output_type": "stream",
     "text": [
      "Power:  256\n"
     ]
    }
   ],
   "source": [
    "#Power\n",
    "a=4\n",
    "b=4\n",
    "print(\"Power: \",pow(a,b))"
   ]
  },
  {
   "cell_type": "code",
   "execution_count": 12,
   "id": "5955c27f",
   "metadata": {},
   "outputs": [
    {
     "name": "stdout",
     "output_type": "stream",
     "text": [
      "256\n"
     ]
    }
   ],
   "source": [
    "#Power calculation using recursive function\n",
    "def calculatepower(n, e):\n",
    "    if e == 0:\n",
    "        return 1\n",
    "    elif e == 1:\n",
    "        return n\n",
    "    else:\n",
    "        return (n*calculatepower(n, e-1))\n",
    "print(calculatepower(4,4))"
   ]
  }
 ],
 "metadata": {
  "kernelspec": {
   "display_name": "Python 3 (ipykernel)",
   "language": "python",
   "name": "python3"
  },
  "language_info": {
   "codemirror_mode": {
    "name": "ipython",
    "version": 3
   },
   "file_extension": ".py",
   "mimetype": "text/x-python",
   "name": "python",
   "nbconvert_exporter": "python",
   "pygments_lexer": "ipython3",
   "version": "3.7.15"
  }
 },
 "nbformat": 4,
 "nbformat_minor": 5
}
