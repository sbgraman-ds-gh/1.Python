{
 "cells": [
  {
   "cell_type": "code",
   "execution_count": 2,
   "id": "9a2c9d1d",
   "metadata": {},
   "outputs": [],
   "source": [
    "def Subfields():    \n",
    "    print(\"Sub-fields in A.I are\")\n",
    "    print(\"Machine Learning\")\n",
    "    print(\"Neural Networks\")\n",
    "    print(\"Vision\")\n",
    "    print(\"Robotics\")\n",
    "    print(\"Speech Processing\")\n",
    "    print(\"Natural Language Processing\")"
   ]
  },
  {
   "cell_type": "code",
   "execution_count": 3,
   "id": "7f4980e2",
   "metadata": {
    "scrolled": true
   },
   "outputs": [
    {
     "name": "stdout",
     "output_type": "stream",
     "text": [
      "Sub-fields in A.I are\n",
      "Machine Learning\n",
      "Neural Networks\n",
      "Vision\n",
      "Robotics\n",
      "Speech Processing\n",
      "Natural Language Processing\n"
     ]
    }
   ],
   "source": [
    "Subfields()"
   ]
  },
  {
   "cell_type": "code",
   "execution_count": 4,
   "id": "1dde162a",
   "metadata": {},
   "outputs": [],
   "source": [
    "def OddEven():\n",
    "    numvar=int(input(\"Enter a number:\"))\n",
    "    if (numvar%2==0):\n",
    "        print(str(numvar)+\" is a Even number\")\n",
    "    else:\n",
    "        print(str(numvar)+\" is a Odd number\")        "
   ]
  },
  {
   "cell_type": "code",
   "execution_count": 7,
   "id": "84788e6f",
   "metadata": {},
   "outputs": [
    {
     "name": "stdout",
     "output_type": "stream",
     "text": [
      "Enter a number:9\n",
      "9 is a Odd number\n"
     ]
    }
   ],
   "source": [
    "OddEven()"
   ]
  },
  {
   "cell_type": "code",
   "execution_count": 23,
   "id": "43992926",
   "metadata": {},
   "outputs": [],
   "source": [
    "def Eligible():\n",
    "    Gendervar=input(\"Enter Your Gender(MALE/FEMALE) : \")    \n",
    "    if ((Gendervar==\"MALE\") & (Gendervar==\"FEMALE\")):\n",
    "        Agevar=int(input(\"Enter Your Age :\"))\n",
    "        if ((Gendervar==\"FEMALE\") & (Agevar > 25)):\n",
    "            print(\"Your are Eligible!\")\n",
    "        elif ((Gendervar==\"MALE\") & (Agevar > 20)):\n",
    "            print(\"Your are Eligible!\")\n",
    "        else:\n",
    "            print(\"Your are NOT Eligible!\")          \n",
    "    else:\n",
    "            print(\"Enter the Valid Gender!!\")      \n",
    "        \n",
    "    \n",
    "    "
   ]
  },
  {
   "cell_type": "code",
   "execution_count": 24,
   "id": "d5107ddc",
   "metadata": {},
   "outputs": [
    {
     "name": "stdout",
     "output_type": "stream",
     "text": [
      "Enter Your Gender(MALE/FEMALE) : GG\n",
      "Enter the Valid Gender!!\n"
     ]
    }
   ],
   "source": [
    " Eligible()"
   ]
  },
  {
   "cell_type": "code",
   "execution_count": 27,
   "id": "b97e3e05",
   "metadata": {},
   "outputs": [],
   "source": [
    "def Percentage():\n",
    "    Subject1=float(input(\"Enter your marks in Subject1: \"))        \n",
    "    Subject2=float(input(\"Enter your marks in Subject2: \"))    \n",
    "    Subject3=float(input(\"Enter your marks in Subject3: \"))\n",
    "    Subject4=float(input(\"Enter your marks in Subject4: \"))\n",
    "    Subject5=float(input(\"Enter your marks in Subject5: \"))\n",
    "    TotalMarks=(Subject1+Subject2+Subject3+Subject4+Subject5)\n",
    "    # used round function for rounding off the digits to 2\n",
    "    Percentage=round((TotalMarks/500)*100,2)   \n",
    "    return  Percentage       \n",
    "        \n",
    "        \n",
    "      \n",
    "        "
   ]
  },
  {
   "cell_type": "code",
   "execution_count": 28,
   "id": "8356e109",
   "metadata": {},
   "outputs": [
    {
     "name": "stdout",
     "output_type": "stream",
     "text": [
      "Enter your marks in Subject1: 1\n",
      "Enter your marks in Subject2: 2\n",
      "Enter your marks in Subject3: 3\n",
      "Enter your marks in Subject4: 4\n",
      "Enter your marks in Subject5: 5\n",
      "Percentage of Marks :  3.0\n"
     ]
    }
   ],
   "source": [
    "percent=Percentage()\n",
    "print(\"Percentage of Marks : \", percent)"
   ]
  },
  {
   "cell_type": "code",
   "execution_count": 29,
   "id": "86d935aa",
   "metadata": {},
   "outputs": [],
   "source": [
    "def triangle():\n",
    "    Height=float(input(\"Enter the Height: \")) \n",
    "    Breadth=float(input(\"Enter the Breadth: \")) \n",
    "    print(\"Area Formula : (Height*Breadth)/2\")\n",
    "    AreaOfTriangle=(Height*Breadth)/2\n",
    "    print(\"Area of Triangle: \",AreaOfTriangle)\n",
    "    Height1=float(input(\"Enter the Height1: \")) \n",
    "    Height2=float(input(\"Enter the Height2: \")) \n",
    "    Breadth=float(input(\"Enter the Breadth: \")) \n",
    "    print(\"Perimeter Formula : (Height1+Height2+Breadth)\")\n",
    "    PerimeterOfTriangle=(Height1+Height2+Breadth)\n",
    "    print(\"Perimeter Of Triangle : \",PerimeterOfTriangle)"
   ]
  },
  {
   "cell_type": "code",
   "execution_count": 30,
   "id": "daf89c92",
   "metadata": {},
   "outputs": [
    {
     "name": "stdout",
     "output_type": "stream",
     "text": [
      "Enter the Height: 100\n",
      "Enter the Breadth: 200\n",
      "Area Formula : (Height*Breadth)/2\n",
      "Area of Triangle:  10000.0\n",
      "Enter the Height1: 11\n",
      "Enter the Height2: 12\n",
      "Enter the Breadth: 13\n",
      "Perimeter Formula : (Height1+Height2+Breadth)\n",
      "Perimeter Of Triangle :  36.0\n"
     ]
    }
   ],
   "source": [
    "triangle()"
   ]
  }
 ],
 "metadata": {
  "kernelspec": {
   "display_name": "Python 3 (ipykernel)",
   "language": "python",
   "name": "python3"
  },
  "language_info": {
   "codemirror_mode": {
    "name": "ipython",
    "version": 3
   },
   "file_extension": ".py",
   "mimetype": "text/x-python",
   "name": "python",
   "nbconvert_exporter": "python",
   "pygments_lexer": "ipython3",
   "version": "3.7.15"
  }
 },
 "nbformat": 4,
 "nbformat_minor": 5
}
