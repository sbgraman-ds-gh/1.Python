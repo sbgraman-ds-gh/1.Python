{
 "cells": [
  {
   "cell_type": "code",
   "execution_count": 1,
   "id": "7648f467",
   "metadata": {},
   "outputs": [
    {
     "name": "stdout",
     "output_type": "stream",
     "text": [
      "0\n",
      "1\n",
      "2\n",
      "3\n",
      "4\n",
      "5\n",
      "6\n",
      "7\n",
      "8\n",
      "9\n",
      "10\n",
      "11\n",
      "12\n",
      "13\n",
      "14\n",
      "15\n",
      "16\n",
      "17\n",
      "18\n",
      "19\n"
     ]
    }
   ],
   "source": [
    "for i in range(20):\n",
    "    print(i)"
   ]
  },
  {
   "cell_type": "code",
   "execution_count": 5,
   "id": "4e8836bd",
   "metadata": {},
   "outputs": [
    {
     "name": "stdout",
     "output_type": "stream",
     "text": [
      "10 11 12 13 14 15 16 17 18 19 "
     ]
    }
   ],
   "source": [
    "# printing Nunbers Horizontal \n",
    "spavar=\"\"\n",
    "for i in range(10, 20):\n",
    "    print(i, end=\" \")     \n",
    "    "
   ]
  },
  {
   "cell_type": "code",
   "execution_count": 6,
   "id": "128ec37c",
   "metadata": {},
   "outputs": [
    {
     "name": "stdout",
     "output_type": "stream",
     "text": [
      "Number of Items in the List2: 7\n"
     ]
    }
   ],
   "source": [
    "# Print number of items in the list by using len\n",
    "List2 = [10, 20, 14, 55, 43,87,76]\n",
    "print (\"Number of Items in the List2:\",len(List2))"
   ]
  },
  {
   "cell_type": "code",
   "execution_count": 7,
   "id": "22679226",
   "metadata": {},
   "outputs": [
    {
     "name": "stdout",
     "output_type": "stream",
     "text": [
      "Number of Items in the List2: 7\n"
     ]
    }
   ],
   "source": [
    "# Print number of items in the list by using another method  \n",
    "List2 = [10, 20, 14, 55, 43,87,76]\n",
    "counter =0\n",
    "for i in List2:\n",
    "    counter = counter + 1\n",
    "print(\"Number of Items in the List2:\",counter)     \n",
    "    "
   ]
  },
  {
   "cell_type": "code",
   "execution_count": 8,
   "id": "100452ad",
   "metadata": {},
   "outputs": [
    {
     "name": "stdout",
     "output_type": "stream",
     "text": [
      "T\n",
      "H\n",
      "E\n",
      " \n",
      "H\n",
      "O\n",
      "P\n",
      "E\n",
      " \n",
      "A\n",
      "R\n",
      "T\n",
      "I\n",
      "F\n",
      "I\n",
      "C\n",
      "I\n",
      "A\n",
      "L\n",
      " \n",
      "I\n",
      "N\n",
      "T\n",
      "E\n",
      "L\n",
      "L\n",
      "I\n",
      "G\n",
      "E\n",
      "N\n",
      "C\n",
      "E\n",
      " \n",
      "K\n",
      "O\n",
      "V\n",
      "A\n",
      "I\n"
     ]
    }
   ],
   "source": [
    "#import time\n",
    "stringvar = \"THE HOPE ARTIFICIAL INTELLIGENCE KOVAI\"\n",
    "for character_index in stringvar:\n",
    "   print(character_index) # print each character at a time from string\n",
    "   #time.sleep(0.5)"
   ]
  },
  {
   "cell_type": "code",
   "execution_count": 10,
   "id": "a0bfa9c8",
   "metadata": {},
   "outputs": [
    {
     "name": "stdout",
     "output_type": "stream",
     "text": [
      "H\n",
      "O\n",
      "P\n",
      "E\n",
      " \n",
      "A\n",
      "R\n",
      "T\n",
      "I\n",
      "F\n",
      "I\n",
      "C\n",
      "I\n",
      "A\n",
      "L\n",
      " \n",
      "I\n",
      "N\n",
      "T\n",
      "E\n",
      "L\n",
      "L\n",
      "I\n",
      "G\n",
      "E\n",
      "N\n",
      "C\n",
      "E\n",
      " \n",
      "A\n",
      "C\n",
      "A\n",
      "D\n",
      "E\n",
      "M\n",
      "Y\n"
     ]
    }
   ],
   "source": [
    "# Print string with Sleep\n",
    "import time  # import time\n",
    "stringvar = \"HOPE ARTIFICIAL INTELLIGENCE ACADEMY\"\n",
    "for character_index in stringvar:\n",
    "   print(character_index) # print each character at a time from string\n",
    "   time.sleep(0.5)"
   ]
  },
  {
   "cell_type": "code",
   "execution_count": 12,
   "id": "52a5a657",
   "metadata": {},
   "outputs": [
    {
     "name": "stdout",
     "output_type": "stream",
     "text": [
      "-Your Name-\n",
      "-Your Age-\n",
      "-Your Profession-\n"
     ]
    }
   ],
   "source": [
    "print(\"-Your Name-\")\n",
    "print (\"-Your Age-\")\n",
    "print (\"-Your Profession-\")"
   ]
  },
  {
   "cell_type": "code",
   "execution_count": 16,
   "id": "c27afa46",
   "metadata": {},
   "outputs": [
    {
     "name": "stdout",
     "output_type": "stream",
     "text": [
      "The Number 20 is Even\n",
      "The Number 10 is Even\n",
      "The Number 16 is Even\n",
      "The Number 276 is Even\n",
      "The Number 188 is Even\n"
     ]
    }
   ],
   "source": [
    "ListOfNum = [20,10,16,19,25,1,276,188]\n",
    "for n in ListOfNum:    \n",
    "    if (n%2 == 0):    \n",
    "        print(\"The Number\",n,\"is Even\")"
   ]
  },
  {
   "cell_type": "code",
   "execution_count": 15,
   "id": "eacdb711",
   "metadata": {},
   "outputs": [
    {
     "name": "stdout",
     "output_type": "stream",
     "text": [
      "The Number 19 is Odd\n",
      "The Number 25 is Odd\n",
      "The Number 1 is Odd\n"
     ]
    }
   ],
   "source": [
    "ListOfNum = [20,10,16,19,25,1,276,188]\n",
    "for n in ListOfNum:    \n",
    "    if (n%2 != 0):    \n",
    "        print(\"The Number\",n,\"is Odd\")"
   ]
  },
  {
   "cell_type": "code",
   "execution_count": 13,
   "id": "e9ae6636",
   "metadata": {},
   "outputs": [
    {
     "name": "stdout",
     "output_type": "stream",
     "text": [
      "(1, 'Welcome', 2, 'Hope')\n"
     ]
    }
   ],
   "source": [
    "TupleVar = (1, \"Welcome\", 2, \"Hope\")\n",
    "print(TupleVar)"
   ]
  },
  {
   "cell_type": "code",
   "execution_count": 19,
   "id": "0e82a76f",
   "metadata": {},
   "outputs": [
    {
     "name": "stdout",
     "output_type": "stream",
     "text": [
      "\n",
      "Tuple with nested tuples: \n",
      "((0, 1, 2, 3), ('python', 'Hope'))\n"
     ]
    }
   ],
   "source": [
    "#Concatenating 2 tuples \n",
    "TupleVar1 = (0, 1, 2, 3)\n",
    "TupleVar2 = ('python','Hope') \n",
    "TupleVar3 = (TupleVar1,TupleVar2) \n",
    "print(\"\\nTuple with nested tuples: \")\n",
    "print(TupleVar3)"
   ]
  }
 ],
 "metadata": {
  "kernelspec": {
   "display_name": "Python 3 (ipykernel)",
   "language": "python",
   "name": "python3"
  },
  "language_info": {
   "codemirror_mode": {
    "name": "ipython",
    "version": 3
   },
   "file_extension": ".py",
   "mimetype": "text/x-python",
   "name": "python",
   "nbconvert_exporter": "python",
   "pygments_lexer": "ipython3",
   "version": "3.7.15"
  }
 },
 "nbformat": 4,
 "nbformat_minor": 5
}
