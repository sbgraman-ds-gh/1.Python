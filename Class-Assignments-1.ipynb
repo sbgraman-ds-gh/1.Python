{
 "cells": [
  {
   "cell_type": "code",
   "execution_count": 4,
   "id": "737fdcb0",
   "metadata": {},
   "outputs": [],
   "source": [
    "class SubfieldsInAI():\n",
    "    \n",
    "    def Subfields():    \n",
    "        print(\"Sub-fields in A.I are :\")\n",
    "        print(\"Machine Learning\")\n",
    "        print(\"Neural Networks\")\n",
    "        print(\"Vision\")\n",
    "        print(\"R.obotics\")\n",
    "        print(\"Speech Processing\")\n",
    "        print(\"Natural Language Processing\")"
   ]
  },
  {
   "cell_type": "code",
   "execution_count": 5,
   "id": "e4f3da5e",
   "metadata": {},
   "outputs": [
    {
     "name": "stdout",
     "output_type": "stream",
     "text": [
      "Sub-fields in A.I are :\n",
      "Machine Learning\n",
      "Neural Networks\n",
      "Vision\n",
      "Robotics\n",
      "Speech Processing\n",
      "Natural Language Processing\n"
     ]
    }
   ],
   "source": [
    " SubfieldsInAI.Subfields()"
   ]
  },
  {
   "cell_type": "code",
   "execution_count": 7,
   "id": "00281f8e",
   "metadata": {},
   "outputs": [],
   "source": [
    "class OddEven():\n",
    "    def OddEven():\n",
    "        numvar=int(input(\"Enter a number:\"))\n",
    "        if (numvar%2==0):\n",
    "            print(str(numvar)+\" is a Even number\")\n",
    "        else:\n",
    "            print(str(numvar)+\" is a Odd number\")"
   ]
  },
  {
   "cell_type": "code",
   "execution_count": 8,
   "id": "621c278f",
   "metadata": {},
   "outputs": [
    {
     "name": "stdout",
     "output_type": "stream",
     "text": [
      "Enter a number:4\n",
      "4 is a Even number\n"
     ]
    }
   ],
   "source": [
    "OddEven.OddEven()"
   ]
  },
  {
   "cell_type": "code",
   "execution_count": 9,
   "id": "2c323062",
   "metadata": {},
   "outputs": [],
   "source": [
    "class EligibilityForMarriage():\n",
    "    def EligibleCheck():\n",
    "        Gendervar=input(\"Enter Your Gender(MALE/FEMALE) : \")    \n",
    "        if ((Gendervar==\"MALE\") | (Gendervar==\"FEMALE\")):\n",
    "            Agevar=int(input(\"Enter Your Age :\"))\n",
    "            if ((Gendervar==\"FEMALE\") & (Agevar > 25)):\n",
    "                print(\"Your are Eligible!\")\n",
    "            elif ((Gendervar==\"MALE\") & (Agevar > 20)):\n",
    "                print(\"Your are Eligible!\")\n",
    "            else:\n",
    "                print(\"Your are NOT Eligible!\")          \n",
    "        else:\n",
    "            print(\"Enter the Valid Gender!!\") \n",
    "    "
   ]
  },
  {
   "cell_type": "code",
   "execution_count": 10,
   "id": "47a6f0dd",
   "metadata": {},
   "outputs": [
    {
     "name": "stdout",
     "output_type": "stream",
     "text": [
      "Enter Your Gender(MALE/FEMALE) : MALE\n",
      "Enter the Valid Gender!!\n"
     ]
    }
   ],
   "source": [
    "EligibilityForMarriage.EligibleCheck()"
   ]
  },
  {
   "cell_type": "code",
   "execution_count": null,
   "id": "b42308ef",
   "metadata": {},
   "outputs": [],
   "source": [
    "class FindPercent():\n",
    "    def Percentage():       \n",
    "        Subject1=float(input(\"Enter your marks in Subject1: \"))        \n",
    "        Subject2=float(input(\"Enter your marks in Subject2: \"))    \n",
    "        Subject3=float(input(\"Enter your marks in Subject3: \"))\n",
    "        Subject4=float(input(\"Enter your marks in Subject4: \"))\n",
    "        Subject5=float(input(\"Enter your marks in Subject5: \"))\n",
    "        TotalMarks=(Subject1+Subject2+Subject3+Subject4+Subject5)\n",
    "        # used round function for rounding off the digits to 2\n",
    "        Percentage=round((TotalMarks/500)*100,2)   \n",
    "        return  Percentage      \n",
    "        \n",
    "        "
   ]
  },
  {
   "cell_type": "code",
   "execution_count": 2,
   "id": "8fed3a39",
   "metadata": {},
   "outputs": [],
   "source": [
    "class clstriangle():\n",
    "    def triangle():\n",
    "        Height=float(input(\"Enter the Height: \")) \n",
    "        Breadth=float(input(\"Enter the Breadth: \")) \n",
    "        print(\"Area Formula : (Height*Breadth)/2\")\n",
    "        AreaOfTriangle=(Height*Breadth)/2\n",
    "        print(\"Area of Triangle: \",AreaOfTriangle)\n",
    "        Height1=float(input(\"Enter the Height1: \")) \n",
    "        Height2=float(input(\"Enter the Height2: \")) \n",
    "        Breadth=float(input(\"Enter the Breadth: \")) \n",
    "        print(\"Perimeter Formula : (Height1+Height2+Breadth)\")\n",
    "        PerimeterOfTriangle=(Height1+Height2+Breadth)\n",
    "        print(\"Perimeter Of Triangle : \",PerimeterOfTriangle)"
   ]
  },
  {
   "cell_type": "code",
   "execution_count": null,
   "id": "2a335b4d",
   "metadata": {},
   "outputs": [],
   "source": [
    "clstriangle.triangle()"
   ]
  },
  {
   "cell_type": "code",
   "execution_count": null,
   "id": "214a94ce",
   "metadata": {},
   "outputs": [],
   "source": []
  }
 ],
 "metadata": {
  "kernelspec": {
   "display_name": "Python 3 (ipykernel)",
   "language": "python",
   "name": "python3"
  },
  "language_info": {
   "codemirror_mode": {
    "name": "ipython",
    "version": 3
   },
   "file_extension": ".py",
   "mimetype": "text/x-python",
   "name": "python",
   "nbconvert_exporter": "python",
   "pygments_lexer": "ipython3",
   "version": "3.7.15"
  }
 },
 "nbformat": 4,
 "nbformat_minor": 5
}
