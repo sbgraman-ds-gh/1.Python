{
 "cells": [
  {
   "cell_type": "code",
   "execution_count": 22,
   "id": "a6d55153",
   "metadata": {},
   "outputs": [],
   "source": [
    "class multiFunctions():\n",
    "    def Subfields():    \n",
    "        print(\"Sub-fields in A.I are :\")\n",
    "        print(\"Machine Learning\")\n",
    "        print(\"Neural Networks\")\n",
    "        print(\"Vision\")\n",
    "        print(\"R.obotics\")\n",
    "        print(\"Speech Processing\")\n",
    "        print(\"Natural Language Processing\")\n",
    "            \n",
    "        \n",
    "    def OddEven():\n",
    "        numvar=int(input(\"Enter a number:\"))\n",
    "        if (numvar%2==0):\n",
    "            print(str(numvar)+\" is a Even number\")\n",
    "        else:\n",
    "            print(str(numvar)+\" is a Odd number\")\n",
    "                \n",
    "    def EligibleCheck():\n",
    "        Gendervar=input(\"Enter Your Gender(MALE/FEMALE) : \")    \n",
    "        if ((Gendervar==\"MALE\") | (Gendervar==\"FEMALE\")):\n",
    "            Agevar=int(input(\"Enter Your Age :\"))\n",
    "            if ((Gendervar==\"FEMALE\") & (Agevar > 25)):\n",
    "                print(\"Your are Eligible!\")\n",
    "            elif ((Gendervar==\"MALE\") & (Agevar > 20)):\n",
    "                print(\"Your are Eligible!\")\n",
    "            else:\n",
    "                print(\"Your are NOT Eligible!\")          \n",
    "        else:\n",
    "            print(\"InCorrect !. Enter the Valid Gender!!\") \n",
    "    \n",
    "            \n",
    "    def Percentage():       \n",
    "        Subject1=float(input(\"Enter your marks in Subject1: \"))        \n",
    "        Subject2=float(input(\"Enter your marks in Subject2: \"))    \n",
    "        Subject3=float(input(\"Enter your marks in Subject3: \"))\n",
    "        Subject4=float(input(\"Enter your marks in Subject4: \"))\n",
    "        Subject5=float(input(\"Enter your marks in Subject5: \"))\n",
    "        TotalMarks=(Subject1+Subject2+Subject3+Subject4+Subject5)\n",
    "        # used round function for rounding off the digits to 2\n",
    "        Percentage=round((TotalMarks/500)*100,2)   \n",
    "        return  Percentage  \n",
    "    \n",
    "    def triangle():\n",
    "        Height=float(input(\"Enter the Height: \")) \n",
    "        Breadth=float(input(\"Enter the Breadth: \")) \n",
    "        print(\"Area Formula : (Height*Breadth)/2\")\n",
    "        AreaOfTriangle=(Height*Breadth)/2\n",
    "        print(\"Area of Triangle: \",AreaOfTriangle)\n",
    "        Height1=float(input(\"Enter the Height1: \")) \n",
    "        Height2=float(input(\"Enter the Height2: \")) \n",
    "        Breadth=float(input(\"Enter the Breadth: \")) \n",
    "        print(\"Perimeter Formula : (Height1+Height2+Breadth)\")\n",
    "        PerimeterOfTriangle=(Height1+Height2+Breadth)\n",
    "        print(\"Perimeter Of Triangle : \",PerimeterOfTriangle)    \n",
    "             \n",
    "    \n",
    "    \n"
   ]
  },
  {
   "cell_type": "code",
   "execution_count": 19,
   "id": "309598eb",
   "metadata": {},
   "outputs": [
    {
     "name": "stdout",
     "output_type": "stream",
     "text": [
      "Enter the Height: 99\n",
      "Enter the Breadth: 99\n",
      "Area Formula : (Height*Breadth)/2\n",
      "Area of Triangle:  4900.5\n",
      "Enter the Height1: 60\n",
      "Enter the Height2: 70\n",
      "Enter the Breadth: 80\n",
      "Perimeter Formula : (Height1+Height2+Breadth)\n",
      "Perimeter Of Triangle :  210.0\n"
     ]
    }
   ],
   "source": [
    "multiFunctions.triangle()"
   ]
  },
  {
   "cell_type": "code",
   "execution_count": 20,
   "id": "fe78b54b",
   "metadata": {},
   "outputs": [
    {
     "name": "stdout",
     "output_type": "stream",
     "text": [
      "Enter your marks in Subject1: 1\n",
      "Enter your marks in Subject2: 2\n",
      "Enter your marks in Subject3: 3\n",
      "Enter your marks in Subject4: 4\n",
      "Enter your marks in Subject5: 5\n"
     ]
    },
    {
     "data": {
      "text/plain": [
       "3.0"
      ]
     },
     "execution_count": 20,
     "metadata": {},
     "output_type": "execute_result"
    }
   ],
   "source": [
    "multiFunctions.Percentage()"
   ]
  },
  {
   "cell_type": "code",
   "execution_count": 24,
   "id": "5ac8e4a6",
   "metadata": {},
   "outputs": [
    {
     "name": "stdout",
     "output_type": "stream",
     "text": [
      "Enter Your Gender(MALE/FEMALE) : MALE\n",
      "Enter Your Age :29\n",
      "Your are Eligible!\n"
     ]
    }
   ],
   "source": [
    "multiFunctions.EligibleCheck()"
   ]
  },
  {
   "cell_type": "code",
   "execution_count": 16,
   "id": "6fdd9bd0",
   "metadata": {},
   "outputs": [
    {
     "name": "stdout",
     "output_type": "stream",
     "text": [
      "Enter a number:555\n",
      "555 is a Odd number\n"
     ]
    }
   ],
   "source": [
    " multiFunctions.OddEven()"
   ]
  },
  {
   "cell_type": "code",
   "execution_count": 17,
   "id": "e2e9c91a",
   "metadata": {},
   "outputs": [
    {
     "name": "stdout",
     "output_type": "stream",
     "text": [
      "Sub-fields in A.I are :\n",
      "Machine Learning\n",
      "Neural Networks\n",
      "Vision\n",
      "R.obotics\n",
      "Speech Processing\n",
      "Natural Language Processing\n"
     ]
    }
   ],
   "source": [
    "multiFunctions.Subfields()"
   ]
  }
 ],
 "metadata": {
  "kernelspec": {
   "display_name": "Python 3 (ipykernel)",
   "language": "python",
   "name": "python3"
  },
  "language_info": {
   "codemirror_mode": {
    "name": "ipython",
    "version": 3
   },
   "file_extension": ".py",
   "mimetype": "text/x-python",
   "name": "python",
   "nbconvert_exporter": "python",
   "pygments_lexer": "ipython3",
   "version": "3.7.15"
  }
 },
 "nbformat": 4,
 "nbformat_minor": 5
}
